{
 "cells": [
  {
   "cell_type": "code",
   "execution_count": 27,
   "id": "33d18857",
   "metadata": {},
   "outputs": [
    {
     "name": "stdout",
     "output_type": "stream",
     "text": [
      "\n",
      "id\n",
      "__export__.temp_log_196134_bd201015    29\n",
      "__export__.temp_log_196131_7bca51bc    29\n",
      "__export__.temp_log_196127_522915e3    41\n",
      "__export__.temp_log_196128_be0919cf    41\n",
      "__export__.temp_log_196126_d30b72fb    31\n",
      "                                       ..\n",
      "__export__.temp_log_91076_7fbd08ca     31\n",
      "__export__.temp_log_147733_62c03f31    31\n",
      "__export__.temp_log_100386_84093a68    31\n",
      "__export__.temp_log_123297_4d8e690b    31\n",
      "__export__.temp_log_133741_32958703    31\n",
      "Name: temp, Length: 97606, dtype: int64\n"
     ]
    }
   ],
   "source": [
    "import os\n",
    "os.chdir(\"C:/Users/Usuario/Documents/Décimo/IA\")\n",
    "os.getcwd()\n",
    "import csv\n",
    "f= open(\"IOT-temp.csv\")\n",
    "reader = csv.reader(f)\n",
    "\n",
    "\n",
    "import pandas as pd\n",
    "df=pd.read_csv(\"IOT-temp.csv\", index_col=0)\n",
    "print ()\n",
    "df1=df['temp']\n",
    "print(df1)"
   ]
  },
  {
   "cell_type": "code",
   "execution_count": null,
   "id": "682b906c",
   "metadata": {},
   "outputs": [],
   "source": []
  },
  {
   "cell_type": "code",
   "execution_count": null,
   "id": "46cfed7b",
   "metadata": {},
   "outputs": [],
   "source": []
  }
 ],
 "metadata": {
  "kernelspec": {
   "display_name": "Python 3 (ipykernel)",
   "language": "python",
   "name": "python3"
  },
  "language_info": {
   "codemirror_mode": {
    "name": "ipython",
    "version": 3
   },
   "file_extension": ".py",
   "mimetype": "text/x-python",
   "name": "python",
   "nbconvert_exporter": "python",
   "pygments_lexer": "ipython3",
   "version": "3.9.7"
  }
 },
 "nbformat": 4,
 "nbformat_minor": 5
}
