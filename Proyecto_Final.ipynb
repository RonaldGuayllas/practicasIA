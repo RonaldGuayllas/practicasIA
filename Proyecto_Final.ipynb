{
 "cells": [
  {
   "cell_type": "markdown",
   "id": "4bb3b071",
   "metadata": {},
   "source": [
    "# PROYECTO FINAL IA-BIO\n"
   ]
  },
  {
   "cell_type": "code",
   "execution_count": null,
   "id": "16fc7f7a",
   "metadata": {},
   "outputs": [],
   "source": [
    "#Para este proyecto se puede hacer uso de las herramientas como una red neuronal\n",
    "#convolucional con la ayuda de librerias como Keras, Tensorflow que sirven para \n",
    "#reconocimiento de imágenes.\n",
    "\n",
    "#Se plantea tomar las imágenes de una base de datos para realizar el entrenamiento\n",
    "\n",
    "# YoloV5 es un detector de objetos rápido y preciso, lo que lo hace ideal para aplicaciones \n",
    "#de visión artificial. ofrece buenas prestaciones procesando imágenes de videos en tiempo real.\n",
    "\n"
   ]
  },
  {
   "cell_type": "code",
   "execution_count": null,
   "id": "05a284c7",
   "metadata": {},
   "outputs": [],
   "source": [
    "import numpy as np\n",
    "import matplotlib.pyplot as plt\n",
    "from sklearn.model_selection import train_test_split \n",
    "import keras \n",
    "from keras.utils import to_categorical \n",
    "from keras.models import Sequential, input,Model\n",
    "\n",
    "#en este apartado se prepara las imagenes para cargar\n",
    "\n",
    "dataset= os.path.join(os.getcwd(), 'medicalimages') #asignar la base de datos\n",
    "imgpath= dataset + os.sep\n",
    "\n",
    "images=[]\n",
    "directories= []\n",
    "dircount= []\n",
    "prevRoot=''\n",
    "cant=0\n",
    "\n",
    "\n"
   ]
  }
 ],
 "metadata": {
  "kernelspec": {
   "display_name": "Python 3 (ipykernel)",
   "language": "python",
   "name": "python3"
  },
  "language_info": {
   "codemirror_mode": {
    "name": "ipython",
    "version": 3
   },
   "file_extension": ".py",
   "mimetype": "text/x-python",
   "name": "python",
   "nbconvert_exporter": "python",
   "pygments_lexer": "ipython3",
   "version": "3.9.7"
  }
 },
 "nbformat": 4,
 "nbformat_minor": 5
}
