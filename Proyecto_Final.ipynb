{
 "cells": [
  {
   "cell_type": "markdown",
   "id": "4bb3b071",
   "metadata": {},
   "source": [
    "# PROYECTO FINAL IA-BIO\n"
   ]
  },
  {
   "cell_type": "code",
   "execution_count": null,
   "id": "16fc7f7a",
   "metadata": {},
   "outputs": [],
   "source": [
    "#Para este proyecto se puede hacer uso de las herramientas como una red neuronal\n",
    "#convolucional con la ayuda de librerias como Keras, Tensorflow que sirven para \n",
    "#reconocimiento de imágenes.\n",
    "\n",
    "#Se plantea tomar las imágenes de una base de datos para realizar el entrenamiento\n",
    "\n",
    "# YoloV5 es un detector de objetos rápido y preciso, lo que lo hace ideal para aplicaciones \n",
    "#de visión artificial. ofrece buenas prestaciones procesando imágenes de videos en tiempo real.\n",
    "\n"
   ]
  },
  {
   "cell_type": "code",
   "execution_count": 9,
   "id": "05a284c7",
   "metadata": {},
   "outputs": [
    {
     "ename": "ModuleNotFoundError",
     "evalue": "No module named 'tensorflow'",
     "output_type": "error",
     "traceback": [
      "\u001b[1;31m---------------------------------------------------------------------------\u001b[0m",
      "\u001b[1;31mModuleNotFoundError\u001b[0m                       Traceback (most recent call last)",
      "\u001b[1;32m~\\AppData\\Local\\Temp/ipykernel_15200/3663556614.py\u001b[0m in \u001b[0;36m<module>\u001b[1;34m\u001b[0m\n\u001b[0;32m      4\u001b[0m \u001b[1;33m\u001b[0m\u001b[0m\n\u001b[0;32m      5\u001b[0m \u001b[1;32mimport\u001b[0m \u001b[0mos\u001b[0m\u001b[1;33m\u001b[0m\u001b[1;33m\u001b[0m\u001b[0m\n\u001b[1;32m----> 6\u001b[1;33m \u001b[1;32mfrom\u001b[0m \u001b[0mtensorflow\u001b[0m\u001b[1;33m.\u001b[0m\u001b[0mpython\u001b[0m\u001b[1;33m.\u001b[0m\u001b[0mkeras\u001b[0m\u001b[1;33m.\u001b[0m\u001b[0mprocessing\u001b[0m\u001b[1;33m.\u001b[0m\u001b[0mimage\u001b[0m \u001b[1;32mimport\u001b[0m \u001b[0mImageDataGenerator\u001b[0m\u001b[1;33m\u001b[0m\u001b[1;33m\u001b[0m\u001b[0m\n\u001b[0m\u001b[0;32m      7\u001b[0m \u001b[1;32mfrom\u001b[0m \u001b[0mtensorflow\u001b[0m\u001b[1;33m.\u001b[0m\u001b[0mkeras\u001b[0m \u001b[1;32mimport\u001b[0m \u001b[0moptimizers\u001b[0m\u001b[1;33m\u001b[0m\u001b[1;33m\u001b[0m\u001b[0m\n\u001b[0;32m      8\u001b[0m \u001b[1;32mfrom\u001b[0m \u001b[0mtensorflow\u001b[0m\u001b[1;33m.\u001b[0m\u001b[0mpython\u001b[0m\u001b[1;33m.\u001b[0m\u001b[0mkeras\u001b[0m\u001b[1;33m.\u001b[0m\u001b[0mmodels\u001b[0m \u001b[1;32mimport\u001b[0m \u001b[0mSequential\u001b[0m\u001b[1;33m\u001b[0m\u001b[1;33m\u001b[0m\u001b[0m\n",
      "\u001b[1;31mModuleNotFoundError\u001b[0m: No module named 'tensorflow'"
     ]
    }
   ],
   "source": [
    "import numpy as np\n",
    "import matplotlib.pyplot as plt\n",
    "from sklearn.model_selection import train_test_split \n",
    "\n",
    "import os\n",
    "from tensorflow.python.keras.processing.image import ImageDataGenerator\n",
    "from tensorflow.keras import optimizers\n",
    "from tensorflow.python.keras.models import Sequential\n",
    "from tensorflow.python.keras.layers import Dropout, Flatten, Dense, Activation\n",
    "from tensorflow.python.keras.layers import Convolution2D, MaxPooling2D\n",
    "import cv2\n",
    "\n",
    "\n",
    "\n",
    "\n",
    "\n"
   ]
  },
  {
   "cell_type": "code",
   "execution_count": 10,
   "id": "c88b0345",
   "metadata": {},
   "outputs": [],
   "source": [
    "#en este apartado se prepara las imagenes para cargar\n",
    "\n",
    "dataset= os.path.join(os.getcwd(), 'PROYECTO_IA_BIO\\archive\\kvasir-dataset-v2\\polyps') #asignar la base de datos\n",
    "imgpath= dataset + os.sep\n",
    "\n",
    "images=[]\n",
    "directories= []\n",
    "dircount= []\n",
    "prevRoot=''\n",
    "cant=0"
   ]
  },
  {
   "cell_type": "code",
   "execution_count": null,
   "id": "2af70dc0",
   "metadata": {},
   "outputs": [],
   "source": [
    "#entrenamiento de las imagenes\n",
    "\n",
    "entrenamiento_dataset= ImageDataGenerator(rescale=(1./255), shear_range=0.3,zoom_range=0.3, horizontal_flip=true)\n",
    "\n",
    "validacion_dataset= ImageDataGenerator(rescale=1./255)\n",
    "\n",
    "#Implementacion de las imagenes para entrenar\n",
    "\n",
    "entrenamiento_generador= entrenamiento_dataset.flow_from_directory(\n",
    "datos_entrenamiento, target_size)"
   ]
  }
 ],
 "metadata": {
  "kernelspec": {
   "display_name": "Python 3 (ipykernel)",
   "language": "python",
   "name": "python3"
  },
  "language_info": {
   "codemirror_mode": {
    "name": "ipython",
    "version": 3
   },
   "file_extension": ".py",
   "mimetype": "text/x-python",
   "name": "python",
   "nbconvert_exporter": "python",
   "pygments_lexer": "ipython3",
   "version": "3.9.7"
  }
 },
 "nbformat": 4,
 "nbformat_minor": 5
}
